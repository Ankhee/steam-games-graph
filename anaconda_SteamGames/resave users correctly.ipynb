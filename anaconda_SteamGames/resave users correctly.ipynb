{
 "cells": [
  {
   "cell_type": "code",
   "execution_count": 1,
   "metadata": {
    "collapsed": true
   },
   "outputs": [],
   "source": [
    "import json\n",
    "scrapped_files_path = \"C:\\\\Users\\\\Admin\\\\AnacondaProjects\\\\SteamGames\\\\\"\n",
    "scrapped_files = [\"usergames1.json\"]\n",
    "#scrapped_files = [\"usergames1.json\", \"usergames2.json\", \"usergames3.json\", \"usergames4.json\"]"
   ]
  },
  {
   "cell_type": "code",
   "execution_count": 5,
   "metadata": {
    "collapsed": false
   },
   "outputs": [],
   "source": [
    "for file in scrapped_files:\n",
    "    scrapped_file = scrapped_files_path + file\n",
    "    with open(scrapped_file, \"rt\") as f:\n",
    "        for line in f:\n",
    "            try:\n",
    "                jdata = json.loads(line)\n",
    "            except:\n",
    "                continue\n",
    "            jdata_games = jdata['json_string']\n",
    "            if (jdata['is_private'] == False) & (\"appid\" in jdata_games):\n",
    "                jdata_games = jdata_games.partition(\"rgGames = \")[2]\n",
    "                jdata_games = jdata_games.partition(\"\\r\\n\\t\\tvar rgChangingGames\")[0]\n",
    "                print(jdata_games)"
   ]
  },
  {
   "cell_type": "code",
   "execution_count": null,
   "metadata": {
    "collapsed": true
   },
   "outputs": [],
   "source": []
  }
 ],
 "metadata": {
  "kernelspec": {
   "display_name": "Python 3",
   "language": "python",
   "name": "python3"
  },
  "language_info": {
   "codemirror_mode": {
    "name": "ipython",
    "version": 3
   },
   "file_extension": ".py",
   "mimetype": "text/x-python",
   "name": "python",
   "nbconvert_exporter": "python",
   "pygments_lexer": "ipython3",
   "version": "3.6.0"
  }
 },
 "nbformat": 4,
 "nbformat_minor": 2
}
