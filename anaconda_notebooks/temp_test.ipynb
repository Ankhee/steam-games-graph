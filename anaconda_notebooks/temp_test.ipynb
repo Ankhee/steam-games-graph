{
 "cells": [
  {
   "cell_type": "code",
   "execution_count": 24,
   "metadata": {
    "collapsed": false
   },
   "outputs": [
    {
     "name": "stdout",
     "output_type": "stream",
     "text": [
      "warning len: 0 []\n"
     ]
    }
   ],
   "source": [
    "import json\n",
    "\n",
    "# appids given by steam via http://api.steampowered.com/ISteamApps/GetAppList/v0001/  which is our base\n",
    "with open('C:\\\\Users\\\\Admin\\\\Documents\\\\GitHub\\\\GamesGraph\\\\scripts\\\\wip_data\\\\_all_appids.json', \n",
    "          'r', encoding='utf8') as f:\n",
    "    steam_json = json.loads(f.read())\n",
    "\n",
    "steam_list = []\n",
    "\n",
    "for app in steam_json['applist']['apps']['app']:\n",
    "    steam_list.append(int(app['appid']))\n",
    "\n",
    "# appids from all the users we've scrapped\n",
    "# let's see if there are any that were not given in the first place\n",
    "\n",
    "scraped_list = []\n",
    "\n",
    "with open('C:\\\\Users\\\\Admin\\\\Documents\\\\GitHub\\\\GamesGraph\\\\scripts\\\\wip_data\\\\_dataframe_merged.csv', 'r') as f:\n",
    "    for line in f.readlines():\n",
    "        line = line.replace(',profile,time','')\n",
    "        line = line.strip('\\n')\n",
    "        line = line.split(',appid')\n",
    "        for appid in line:\n",
    "            if len(appid)>0:\n",
    "                scraped_list.append(int(appid))\n",
    "        break # just need the first line\n",
    "\n",
    "warning = [] \n",
    "\n",
    "for i in scraped_list:\n",
    "    if i not in steam_list:\n",
    "        warning.append(i)\n",
    "        \n",
    "print('warning len:',len(warning),warning)"
   ]
  },
  {
   "cell_type": "code",
   "execution_count": 36,
   "metadata": {
    "collapsed": false
   },
   "outputs": [
    {
     "name": "stdout",
     "output_type": "stream",
     "text": [
      "4717\n"
     ]
    }
   ],
   "source": [
    "# test for flukes and redirects\n",
    "\n",
    "import json\n",
    "with open('C:\\\\Users\\\\Admin\\\\Documents\\\\GitHub\\\\GamesGraph\\\\scripts\\\\wip_data\\\\_appids_scraped.json', \n",
    "          'r', encoding='utf8') as f:\n",
    "    j = json.loads(f.read())\n",
    "\n",
    "redirects = {}    \n",
    "\n",
    "for app in j:\n",
    "    if app['appid'] != app['requested_appid']:\n",
    "        #if app['appid'] == str(515850):\n",
    "        #    print('appid:',app['appid'],'req_appid',app['requested_appid'],'title',app['title'])\n",
    "        if app['appid'] in list(redirects.keys()):\n",
    "            redirects[app['appid']] += 1\n",
    "        else:\n",
    "            redirects[app['appid']] = 1\n",
    "            \n",
    "#sorted(redirects.items(), key=lambda x: x[1], reverse=True)\n",
    "\n",
    "# let's check if any of these redirect to another redirect // WE'RE GOOD\n",
    "\n",
    "redirects = {}\n",
    "\n",
    "for app in j:\n",
    "    if app['appid'] != app['requested_appid']:\n",
    "        try:\n",
    "            redirects[int(app['requested_appid'])] = int(app['appid'])\n",
    "        except ValueError:\n",
    "            pass\n",
    "print(len(redirects))\n",
    "for end in list(redirects.values()):\n",
    "    if end in list(redirects.keys()):\n",
    "        print('warning!',end)\n",
    "        \n",
    "with open('C:\\\\Users\\\\Admin\\\\Documents\\\\GitHub\\\\GamesGraph\\\\scripts\\\\wip_data\\\\_redirects_from_to.json', 'w') as f:\n",
    "    f.write(json.dumps(redirects))"
   ]
  },
  {
   "cell_type": "code",
   "execution_count": 53,
   "metadata": {
    "collapsed": false
   },
   "outputs": [],
   "source": [
    "import json\n",
    "item={\n",
    "    'id': 12455,\n",
    "    't':'asdfsdfxcasg2sSS',\n",
    "    'pos':[432.234,123.235,125.64],\n",
    "    'c':'A1A1A1',\n",
    "    's':0.546,\n",
    "    #'tags':[1,4,78,2],\n",
    "    #'devs':[1,2],\n",
    "    #'pubs':[1],\n",
    "    #'var':{'1':1,'2':2}\n",
    "     }\n",
    "list = []\n",
    "while True:\n",
    "    list.append(item)\n",
    "    if len(list)>10000:\n",
    "        break\n",
    "\n",
    "with open('C:\\\\Users\\\\Admin\\\\Documents\\\\GitHub\\\\GamesGraph\\\\scripts\\\\wip_data\\\\_test_size.json', \n",
    "          'w') as f:\n",
    "    f.write(json.dumps(list))        "
   ]
  },
  {
   "cell_type": "code",
   "execution_count": null,
   "metadata": {
    "collapsed": true
   },
   "outputs": [],
   "source": []
  }
 ],
 "metadata": {
  "kernelspec": {
   "display_name": "Python 3",
   "language": "python",
   "name": "python3"
  },
  "language_info": {
   "codemirror_mode": {
    "name": "ipython",
    "version": 3
   },
   "file_extension": ".py",
   "mimetype": "text/x-python",
   "name": "python",
   "nbconvert_exporter": "python",
   "pygments_lexer": "ipython3",
   "version": "3.6.0"
  }
 },
 "nbformat": 4,
 "nbformat_minor": 2
}
